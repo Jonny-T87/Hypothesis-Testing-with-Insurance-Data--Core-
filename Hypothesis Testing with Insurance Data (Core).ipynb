{
 "cells": [
  {
   "cell_type": "code",
   "execution_count": 128,
   "id": "8627df73",
   "metadata": {},
   "outputs": [],
   "source": [
    "import json\n",
    "import pandas as pd\n",
    "import numpy as np\n",
    "\n",
    "import matplotlib.pyplot as plt\n",
    "import seaborn as sns\n",
    "\n",
    "from scipy import stats\n",
    "import scipy\n",
    "from statsmodels.stats.multicomp import pairwise_tukeyhsd"
   ]
  },
  {
   "cell_type": "code",
   "execution_count": 2,
   "id": "fbe70bbd",
   "metadata": {},
   "outputs": [
    {
     "data": {
      "text/html": [
       "<div>\n",
       "<style scoped>\n",
       "    .dataframe tbody tr th:only-of-type {\n",
       "        vertical-align: middle;\n",
       "    }\n",
       "\n",
       "    .dataframe tbody tr th {\n",
       "        vertical-align: top;\n",
       "    }\n",
       "\n",
       "    .dataframe thead th {\n",
       "        text-align: right;\n",
       "    }\n",
       "</style>\n",
       "<table border=\"1\" class=\"dataframe\">\n",
       "  <thead>\n",
       "    <tr style=\"text-align: right;\">\n",
       "      <th></th>\n",
       "      <th>age</th>\n",
       "      <th>sex</th>\n",
       "      <th>bmi</th>\n",
       "      <th>children</th>\n",
       "      <th>smoker</th>\n",
       "      <th>region</th>\n",
       "      <th>charges</th>\n",
       "    </tr>\n",
       "  </thead>\n",
       "  <tbody>\n",
       "    <tr>\n",
       "      <th>0</th>\n",
       "      <td>19</td>\n",
       "      <td>female</td>\n",
       "      <td>27.900</td>\n",
       "      <td>0</td>\n",
       "      <td>yes</td>\n",
       "      <td>southwest</td>\n",
       "      <td>16884.92400</td>\n",
       "    </tr>\n",
       "    <tr>\n",
       "      <th>1</th>\n",
       "      <td>18</td>\n",
       "      <td>male</td>\n",
       "      <td>33.770</td>\n",
       "      <td>1</td>\n",
       "      <td>no</td>\n",
       "      <td>southeast</td>\n",
       "      <td>1725.55230</td>\n",
       "    </tr>\n",
       "    <tr>\n",
       "      <th>2</th>\n",
       "      <td>28</td>\n",
       "      <td>male</td>\n",
       "      <td>33.000</td>\n",
       "      <td>3</td>\n",
       "      <td>no</td>\n",
       "      <td>southeast</td>\n",
       "      <td>4449.46200</td>\n",
       "    </tr>\n",
       "    <tr>\n",
       "      <th>3</th>\n",
       "      <td>33</td>\n",
       "      <td>male</td>\n",
       "      <td>22.705</td>\n",
       "      <td>0</td>\n",
       "      <td>no</td>\n",
       "      <td>northwest</td>\n",
       "      <td>21984.47061</td>\n",
       "    </tr>\n",
       "    <tr>\n",
       "      <th>4</th>\n",
       "      <td>32</td>\n",
       "      <td>male</td>\n",
       "      <td>28.880</td>\n",
       "      <td>0</td>\n",
       "      <td>no</td>\n",
       "      <td>northwest</td>\n",
       "      <td>3866.85520</td>\n",
       "    </tr>\n",
       "  </tbody>\n",
       "</table>\n",
       "</div>"
      ],
      "text/plain": [
       "   age     sex     bmi  children smoker     region      charges\n",
       "0   19  female  27.900         0    yes  southwest  16884.92400\n",
       "1   18    male  33.770         1     no  southeast   1725.55230\n",
       "2   28    male  33.000         3     no  southeast   4449.46200\n",
       "3   33    male  22.705         0     no  northwest  21984.47061\n",
       "4   32    male  28.880         0     no  northwest   3866.85520"
      ]
     },
     "execution_count": 2,
     "metadata": {},
     "output_type": "execute_result"
    }
   ],
   "source": [
    "df = pd.read_csv(\"Data/insurance - insurance.csv\")\n",
    "df.head()"
   ]
  },
  {
   "cell_type": "code",
   "execution_count": 3,
   "id": "555b549c",
   "metadata": {},
   "outputs": [
    {
     "name": "stdout",
     "output_type": "stream",
     "text": [
      "<class 'pandas.core.frame.DataFrame'>\n",
      "RangeIndex: 1338 entries, 0 to 1337\n",
      "Data columns (total 7 columns):\n",
      " #   Column    Non-Null Count  Dtype  \n",
      "---  ------    --------------  -----  \n",
      " 0   age       1338 non-null   int64  \n",
      " 1   sex       1338 non-null   object \n",
      " 2   bmi       1338 non-null   float64\n",
      " 3   children  1338 non-null   int64  \n",
      " 4   smoker    1338 non-null   object \n",
      " 5   region    1338 non-null   object \n",
      " 6   charges   1338 non-null   float64\n",
      "dtypes: float64(2), int64(2), object(3)\n",
      "memory usage: 73.3+ KB\n"
     ]
    }
   ],
   "source": [
    "df.info()"
   ]
  },
  {
   "cell_type": "markdown",
   "id": "8f837602",
   "metadata": {},
   "source": [
    "# - Q1. Do smokers have higher insurance charges than non-smokers?"
   ]
  },
  {
   "cell_type": "markdown",
   "id": "0b31e517",
   "metadata": {},
   "source": [
    "1. Stating the Hypothesis & Null Hypothesis:\n",
    "\n",
    " - (Null Hypothesis): There is no difference in insurance charges between smokers and non-smokers. \n",
    "\n",
    " - (Alternative Hypothesis): There is a significant difference in insurance charges between smokers and non-smokers.\n",
    " \n",
    " - Alpha: We will be using an alpha=.05"
   ]
  },
  {
   "cell_type": "markdown",
   "id": "5d04a3ae",
   "metadata": {},
   "source": [
    "- Selecting the correct test according to the data type and number of samples"
   ]
  },
  {
   "cell_type": "code",
   "execution_count": 13,
   "id": "e1c5283d",
   "metadata": {},
   "outputs": [
    {
     "data": {
      "text/html": [
       "<div>\n",
       "<style scoped>\n",
       "    .dataframe tbody tr th:only-of-type {\n",
       "        vertical-align: middle;\n",
       "    }\n",
       "\n",
       "    .dataframe tbody tr th {\n",
       "        vertical-align: top;\n",
       "    }\n",
       "\n",
       "    .dataframe thead th {\n",
       "        text-align: right;\n",
       "    }\n",
       "</style>\n",
       "<table border=\"1\" class=\"dataframe\">\n",
       "  <thead>\n",
       "    <tr style=\"text-align: right;\">\n",
       "      <th></th>\n",
       "      <th>smoker</th>\n",
       "      <th>charges</th>\n",
       "    </tr>\n",
       "  </thead>\n",
       "  <tbody>\n",
       "    <tr>\n",
       "      <th>0</th>\n",
       "      <td>yes</td>\n",
       "      <td>16884.9240</td>\n",
       "    </tr>\n",
       "    <tr>\n",
       "      <th>1</th>\n",
       "      <td>no</td>\n",
       "      <td>1725.5523</td>\n",
       "    </tr>\n",
       "    <tr>\n",
       "      <th>2</th>\n",
       "      <td>no</td>\n",
       "      <td>4449.4620</td>\n",
       "    </tr>\n",
       "  </tbody>\n",
       "</table>\n",
       "</div>"
      ],
      "text/plain": [
       "  smoker     charges\n",
       "0    yes  16884.9240\n",
       "1     no   1725.5523\n",
       "2     no   4449.4620"
      ]
     },
     "execution_count": 13,
     "metadata": {},
     "output_type": "execute_result"
    }
   ],
   "source": [
    "#making col of targets\n",
    "col = df[['smoker', 'charges']]\n",
    "col.head(3)"
   ]
  },
  {
   "cell_type": "code",
   "execution_count": 25,
   "id": "986357fa",
   "metadata": {},
   "outputs": [
    {
     "name": "stdout",
     "output_type": "stream",
     "text": [
      "smoker     274\n",
      "charges    274\n",
      "dtype: int64\n"
     ]
    },
    {
     "data": {
      "text/html": [
       "<div>\n",
       "<style scoped>\n",
       "    .dataframe tbody tr th:only-of-type {\n",
       "        vertical-align: middle;\n",
       "    }\n",
       "\n",
       "    .dataframe tbody tr th {\n",
       "        vertical-align: top;\n",
       "    }\n",
       "\n",
       "    .dataframe thead th {\n",
       "        text-align: right;\n",
       "    }\n",
       "</style>\n",
       "<table border=\"1\" class=\"dataframe\">\n",
       "  <thead>\n",
       "    <tr style=\"text-align: right;\">\n",
       "      <th></th>\n",
       "      <th>smoker</th>\n",
       "      <th>charges</th>\n",
       "    </tr>\n",
       "  </thead>\n",
       "  <tbody>\n",
       "    <tr>\n",
       "      <th>0</th>\n",
       "      <td>yes</td>\n",
       "      <td>16884.9240</td>\n",
       "    </tr>\n",
       "    <tr>\n",
       "      <th>11</th>\n",
       "      <td>yes</td>\n",
       "      <td>27808.7251</td>\n",
       "    </tr>\n",
       "    <tr>\n",
       "      <th>14</th>\n",
       "      <td>yes</td>\n",
       "      <td>39611.7577</td>\n",
       "    </tr>\n",
       "  </tbody>\n",
       "</table>\n",
       "</div>"
      ],
      "text/plain": [
       "   smoker     charges\n",
       "0     yes  16884.9240\n",
       "11    yes  27808.7251\n",
       "14    yes  39611.7577"
      ]
     },
     "execution_count": 25,
     "metadata": {},
     "output_type": "execute_result"
    }
   ],
   "source": [
    "#splitting smokers and charges and counting \n",
    "smoker_y = col[col['smoker'] == 'yes']\n",
    "num_y = smoker_y.count()\n",
    "print(num_y)\n",
    "smoker_y.head(3)"
   ]
  },
  {
   "cell_type": "code",
   "execution_count": 26,
   "id": "0a3a803d",
   "metadata": {},
   "outputs": [
    {
     "name": "stdout",
     "output_type": "stream",
     "text": [
      "smoker     1064\n",
      "charges    1064\n",
      "dtype: int64\n"
     ]
    },
    {
     "data": {
      "text/html": [
       "<div>\n",
       "<style scoped>\n",
       "    .dataframe tbody tr th:only-of-type {\n",
       "        vertical-align: middle;\n",
       "    }\n",
       "\n",
       "    .dataframe tbody tr th {\n",
       "        vertical-align: top;\n",
       "    }\n",
       "\n",
       "    .dataframe thead th {\n",
       "        text-align: right;\n",
       "    }\n",
       "</style>\n",
       "<table border=\"1\" class=\"dataframe\">\n",
       "  <thead>\n",
       "    <tr style=\"text-align: right;\">\n",
       "      <th></th>\n",
       "      <th>smoker</th>\n",
       "      <th>charges</th>\n",
       "    </tr>\n",
       "  </thead>\n",
       "  <tbody>\n",
       "    <tr>\n",
       "      <th>1</th>\n",
       "      <td>no</td>\n",
       "      <td>1725.55230</td>\n",
       "    </tr>\n",
       "    <tr>\n",
       "      <th>2</th>\n",
       "      <td>no</td>\n",
       "      <td>4449.46200</td>\n",
       "    </tr>\n",
       "    <tr>\n",
       "      <th>3</th>\n",
       "      <td>no</td>\n",
       "      <td>21984.47061</td>\n",
       "    </tr>\n",
       "  </tbody>\n",
       "</table>\n",
       "</div>"
      ],
      "text/plain": [
       "  smoker      charges\n",
       "1     no   1725.55230\n",
       "2     no   4449.46200\n",
       "3     no  21984.47061"
      ]
     },
     "execution_count": 26,
     "metadata": {},
     "output_type": "execute_result"
    }
   ],
   "source": [
    "##splitting smokers and charges and counting \n",
    "smoker_n = col[col['smoker'] == 'no']\n",
    "num_n = smoker_n.count()\n",
    "print(num_n)\n",
    "smoker_n.head(3)"
   ]
  },
  {
   "cell_type": "code",
   "execution_count": 15,
   "id": "00c084e0",
   "metadata": {},
   "outputs": [
    {
     "data": {
      "text/html": [
       "<div>\n",
       "<style scoped>\n",
       "    .dataframe tbody tr th:only-of-type {\n",
       "        vertical-align: middle;\n",
       "    }\n",
       "\n",
       "    .dataframe tbody tr th {\n",
       "        vertical-align: top;\n",
       "    }\n",
       "\n",
       "    .dataframe thead th {\n",
       "        text-align: right;\n",
       "    }\n",
       "</style>\n",
       "<table border=\"1\" class=\"dataframe\">\n",
       "  <thead>\n",
       "    <tr style=\"text-align: right;\">\n",
       "      <th></th>\n",
       "      <th>smoker</th>\n",
       "      <th>charges</th>\n",
       "    </tr>\n",
       "  </thead>\n",
       "  <tbody>\n",
       "    <tr>\n",
       "      <th>0</th>\n",
       "      <td>yes</td>\n",
       "      <td>16884.9240</td>\n",
       "    </tr>\n",
       "    <tr>\n",
       "      <th>11</th>\n",
       "      <td>yes</td>\n",
       "      <td>27808.7251</td>\n",
       "    </tr>\n",
       "    <tr>\n",
       "      <th>14</th>\n",
       "      <td>yes</td>\n",
       "      <td>39611.7577</td>\n",
       "    </tr>\n",
       "    <tr>\n",
       "      <th>19</th>\n",
       "      <td>yes</td>\n",
       "      <td>36837.4670</td>\n",
       "    </tr>\n",
       "    <tr>\n",
       "      <th>23</th>\n",
       "      <td>yes</td>\n",
       "      <td>37701.8768</td>\n",
       "    </tr>\n",
       "    <tr>\n",
       "      <th>...</th>\n",
       "      <td>...</td>\n",
       "      <td>...</td>\n",
       "    </tr>\n",
       "    <tr>\n",
       "      <th>1332</th>\n",
       "      <td>no</td>\n",
       "      <td>11411.6850</td>\n",
       "    </tr>\n",
       "    <tr>\n",
       "      <th>1333</th>\n",
       "      <td>no</td>\n",
       "      <td>10600.5483</td>\n",
       "    </tr>\n",
       "    <tr>\n",
       "      <th>1334</th>\n",
       "      <td>no</td>\n",
       "      <td>2205.9808</td>\n",
       "    </tr>\n",
       "    <tr>\n",
       "      <th>1335</th>\n",
       "      <td>no</td>\n",
       "      <td>1629.8335</td>\n",
       "    </tr>\n",
       "    <tr>\n",
       "      <th>1336</th>\n",
       "      <td>no</td>\n",
       "      <td>2007.9450</td>\n",
       "    </tr>\n",
       "  </tbody>\n",
       "</table>\n",
       "<p>1338 rows × 2 columns</p>\n",
       "</div>"
      ],
      "text/plain": [
       "     smoker     charges\n",
       "0       yes  16884.9240\n",
       "11      yes  27808.7251\n",
       "14      yes  39611.7577\n",
       "19      yes  36837.4670\n",
       "23      yes  37701.8768\n",
       "...     ...         ...\n",
       "1332     no  11411.6850\n",
       "1333     no  10600.5483\n",
       "1334     no   2205.9808\n",
       "1335     no   1629.8335\n",
       "1336     no   2007.9450\n",
       "\n",
       "[1338 rows x 2 columns]"
      ]
     },
     "execution_count": 15,
     "metadata": {},
     "output_type": "execute_result"
    }
   ],
   "source": [
    "#Making a df just for visualization by concat the groups\n",
    "plot_df = pd.concat([smoker_y, smoker_n])\n",
    "plot_df"
   ]
  },
  {
   "cell_type": "code",
   "execution_count": 67,
   "id": "7500cc05",
   "metadata": {
    "scrolled": true
   },
   "outputs": [
    {
     "data": {
      "text/plain": [
       "<AxesSubplot:xlabel='smoker', ylabel='charges'>"
      ]
     },
     "execution_count": 67,
     "metadata": {},
     "output_type": "execute_result"
    },
    {
     "data": {
      "image/png": "[encoded data removed]",
      "text/plain": [
       "<Figure size 576x396 with 1 Axes>"
      ]
     },
     "metadata": {},
     "output_type": "display_data"
    }
   ],
   "source": [
    "# visualize the group of smokers\n",
    "sns.histplot(data=plot_df, x='smoker', y='charges')"
   ]
  },
  {
   "cell_type": "markdown",
   "id": "c144b684",
   "metadata": {},
   "source": [
    "- Testing the assumptions of  selected test.\n",
    "    - Independent t-test (2-sample) for numeric "
   ]
  },
  {
   "cell_type": "code",
   "execution_count": 28,
   "id": "bbe51c25",
   "metadata": {},
   "outputs": [
    {
     "name": "stdout",
     "output_type": "stream",
     "text": [
      "     smoker      charges\n",
      "0       yes  16884.92400\n",
      "11      yes  27808.72510\n",
      "14      yes  39611.75770\n",
      "19      yes  36837.46700\n",
      "23      yes  37701.87680\n",
      "...     ...          ...\n",
      "1313    yes  36397.57600\n",
      "1314    yes  18765.87545\n",
      "1321    yes  28101.33305\n",
      "1323    yes  43896.37630\n",
      "1337    yes  29141.36030\n",
      "\n",
      "[274 rows x 2 columns]\n",
      "     smoker      charges\n",
      "1        no   1725.55230\n",
      "2        no   4449.46200\n",
      "3        no  21984.47061\n",
      "4        no   3866.85520\n",
      "5        no   3756.62160\n",
      "...     ...          ...\n",
      "1332     no  11411.68500\n",
      "1333     no  10600.54830\n",
      "1334     no   2205.98080\n",
      "1335     no   1629.83350\n",
      "1336     no   2007.94500\n",
      "\n",
      "[1064 rows x 2 columns]\n"
     ]
    }
   ],
   "source": [
    "#saving just the numeric charges as a col for group variables\n",
    "yes_charges = smoker_y['charges']\n",
    "no_charges = smoker_n['charges']\n",
    "print(smoker_y)\n",
    "print(smoker_n)"
   ]
  },
  {
   "cell_type": "code",
   "execution_count": 32,
   "id": "4de353c9",
   "metadata": {},
   "outputs": [
    {
     "data": {
      "text/plain": [
       "0"
      ]
     },
     "execution_count": 32,
     "metadata": {},
     "output_type": "execute_result"
    }
   ],
   "source": [
    "#checking yes smokers charges for outliers\n",
    "zscores_y = stats.zscore(yes_charges)\n",
    "outliers_y = abs(zscores_y)>3\n",
    "np.sum(outliers_y)"
   ]
  },
  {
   "cell_type": "markdown",
   "id": "c70ffca9",
   "metadata": {},
   "source": [
    "- No outliers for yes smoker charges"
   ]
  },
  {
   "cell_type": "code",
   "execution_count": 39,
   "id": "2826cadb",
   "metadata": {},
   "outputs": [
    {
     "data": {
      "text/plain": [
       "False    1040\n",
       "True       24\n",
       "Name: charges, dtype: int64"
      ]
     },
     "execution_count": 39,
     "metadata": {},
     "output_type": "execute_result"
    }
   ],
   "source": [
    "#checking no smokers charges for outliers\n",
    "no_outliers = np.abs(stats.zscore(no_charges))>3\n",
    "no_outliers.value_counts()"
   ]
  },
  {
   "cell_type": "code",
   "execution_count": 41,
   "id": "04d0893b",
   "metadata": {},
   "outputs": [],
   "source": [
    "no_charges = no_charges[~no_outliers]"
   ]
  },
  {
   "cell_type": "markdown",
   "id": "76b004ce",
   "metadata": {},
   "source": [
    "- 24 outliers for non smokers charges and i removed them."
   ]
  },
  {
   "cell_type": "code",
   "execution_count": 45,
   "id": "58ea722e",
   "metadata": {},
   "outputs": [
    {
     "name": "stdout",
     "output_type": "stream",
     "text": [
      "NormaltestResult(statistic=61.03941356533816, pvalue=5.564930630036463e-14)\n"
     ]
    },
    {
     "data": {
      "text/plain": [
       "True"
      ]
     },
     "execution_count": 45,
     "metadata": {},
     "output_type": "execute_result"
    }
   ],
   "source": [
    "# Checking yes smoker group for normality\n",
    "result_yes = stats.normaltest(yes_charges)\n",
    "print(result_yes)\n",
    "result_yes.pvalue< .05"
   ]
  },
  {
   "cell_type": "code",
   "execution_count": 46,
   "id": "390613d8",
   "metadata": {},
   "outputs": [
    {
     "name": "stdout",
     "output_type": "stream",
     "text": [
      "NormaltestResult(statistic=163.80367047789198, pvalue=2.6945416315543976e-36)\n"
     ]
    },
    {
     "data": {
      "text/plain": [
       "True"
      ]
     },
     "execution_count": 46,
     "metadata": {},
     "output_type": "execute_result"
    }
   ],
   "source": [
    "# Checking no smoker group for normality\n",
    "result_no = stats.normaltest(no_charges)\n",
    "print(result_no)\n",
    "result_no.pvalue< .05"
   ]
  },
  {
   "cell_type": "markdown",
   "id": "38025335",
   "metadata": {},
   "source": [
    "- Charges for yes and no smokers is allot  less than the pvalue. Thus, our data is NOT normally distributed. However, this is fine due to our sample size being large enough to proceed without satisfying this test.  For an independent t test, sample sizes of 15 or more per group are considered sufficient."
   ]
  },
  {
   "cell_type": "code",
   "execution_count": 48,
   "id": "45fbb062",
   "metadata": {},
   "outputs": [
    {
     "name": "stdout",
     "output_type": "stream",
     "text": [
      "LeveneResult(statistic=520.7468821724297, pvalue=2.4247238784347824e-97)\n"
     ]
    },
    {
     "data": {
      "text/plain": [
       "True"
      ]
     },
     "execution_count": 48,
     "metadata": {},
     "output_type": "execute_result"
    }
   ],
   "source": [
    "#Testing for Equal Variance with Levene's test\n",
    "equal_result = stats.levene(yes_charges, no_charges)\n",
    "print(equal_result)\n",
    "equal_result.pvalue < .05"
   ]
  },
  {
   "cell_type": "markdown",
   "id": "1f32fbeb",
   "metadata": {},
   "source": [
    "- The Equal Variance with Levene's test shows our pvalue is less than 0.05. Thus, we have equal variances between the two groups."
   ]
  },
  {
   "cell_type": "code",
   "execution_count": 50,
   "id": "3bff4fc4",
   "metadata": {
    "scrolled": true
   },
   "outputs": [
    {
     "name": "stdout",
     "output_type": "stream",
     "text": [
      "Ttest_indResult(statistic=51.2078044173717, pvalue=3.68768124e-315)\n",
      "p-value = 0.0000000000\n",
      "Significant: True\n"
     ]
    }
   ],
   "source": [
    "#Final Independent t-test fter confirming we meet most of the assumptions\n",
    "final_result = stats.ttest_ind(yes_charges, no_charges)\n",
    "print(final_result)\n",
    "print(f\"p-value = {final_result.pvalue:.10f}\")\n",
    "print(f\"Significant: {final_result.pvalue <.05}\")"
   ]
  },
  {
   "cell_type": "markdown",
   "id": "f30b5304",
   "metadata": {},
   "source": [
    "Final Conclusion:\n",
    "- Our test says p value < 0.05. Thus, we reject the null hypothesis and support the alternative hypothesis. There is a significant difference in insurance charges between smokers and non-smokers."
   ]
  },
  {
   "cell_type": "code",
   "execution_count": 65,
   "id": "5c8803d7",
   "metadata": {},
   "outputs": [
    {
     "data": {
      "image/png": "[encoded data removed]",
      "text/plain": [
       "<Figure size 576x396 with 1 Axes>"
      ]
     },
     "metadata": {},
     "output_type": "display_data"
    }
   ],
   "source": [
    "# Final barplot\n",
    "ax = sns.barplot(data=col, x='smoker', y='charges')\n",
    "ax.set_xticklabels( ax.get_xticklabels(), rotation=45, ha='right');"
   ]
  },
  {
   "cell_type": "markdown",
   "id": "eef567a6",
   "metadata": {},
   "source": [
    "# - Q2. Are men more likely to smoke than women?"
   ]
  },
  {
   "cell_type": "markdown",
   "id": "aa6b2423",
   "metadata": {},
   "source": [
    "Stating the Hypothesis & Null Hypothesis:\n",
    "\n",
    "- (Null Hypothesis): There is no difference in who smokes more between men and women.\n",
    "\n",
    "- (Alternative Hypothesis): There is a significant difference in who smokes more between men and women.\n",
    "\n",
    "- Alpha: We will be using an alpha=.05\n",
    "\n",
    "Selecting the correct test according to the data type and number of samples"
   ]
  },
  {
   "cell_type": "code",
   "execution_count": 80,
   "id": "fa9e3cfc",
   "metadata": {},
   "outputs": [
    {
     "name": "stdout",
     "output_type": "stream",
     "text": [
      "         sex smoker\n",
      "0     female    yes\n",
      "1       male     no\n",
      "2       male     no\n",
      "3       male     no\n",
      "4       male     no\n",
      "...      ...    ...\n",
      "1333    male     no\n",
      "1334  female     no\n",
      "1335  female     no\n",
      "1336  female     no\n",
      "1337  female    yes\n",
      "\n",
      "[1338 rows x 2 columns]\n"
     ]
    }
   ],
   "source": [
    "col_two = df[['sex','smoker']]\n",
    "col_two.value_counts()\n",
    "print(col_two)"
   ]
  },
  {
   "cell_type": "code",
   "execution_count": 83,
   "id": "9f742035",
   "metadata": {},
   "outputs": [
    {
     "data": {
      "text/plain": [
       "sex     smoker\n",
       "female  no        547\n",
       "        yes       115\n",
       "male    no        517\n",
       "        yes       159\n",
       "Name: smoker, dtype: int64"
      ]
     },
     "execution_count": 83,
     "metadata": {},
     "output_type": "execute_result"
    }
   ],
   "source": [
    "#grouping to see value counts\n",
    "col_two.groupby('sex')['smoker'].value_counts()"
   ]
  },
  {
   "cell_type": "code",
   "execution_count": 85,
   "id": "977aef05",
   "metadata": {},
   "outputs": [
    {
     "name": "stdout",
     "output_type": "stream",
     "text": [
      "         sex smoker\n",
      "0     female    yes\n",
      "5     female     no\n",
      "6     female     no\n",
      "7     female     no\n",
      "9     female     no\n",
      "...      ...    ...\n",
      "1332  female     no\n",
      "1334  female     no\n",
      "1335  female     no\n",
      "1336  female     no\n",
      "1337  female    yes\n",
      "\n",
      "[662 rows x 2 columns]\n",
      "       sex smoker\n",
      "1     male     no\n",
      "2     male     no\n",
      "3     male     no\n",
      "4     male     no\n",
      "8     male     no\n",
      "...    ...    ...\n",
      "1324  male     no\n",
      "1325  male     no\n",
      "1327  male     no\n",
      "1329  male     no\n",
      "1333  male     no\n",
      "\n",
      "[676 rows x 2 columns]\n",
      "sex     smoker\n",
      "female  no        547\n",
      "        yes       115\n",
      "dtype: int64\n",
      "sex   smoker\n",
      "male  no        517\n",
      "      yes       159\n",
      "dtype: int64\n"
     ]
    }
   ],
   "source": [
    "female_smokers = col_two[col_two['sex'] == 'female']\n",
    "male_smokers = col_two[col_two['sex'] == 'male']\n",
    "print(female_smokers)\n",
    "print(male_smokers)\n",
    "print(female_smokers.value_counts())\n",
    "print(male_smokers.value_counts())"
   ]
  },
  {
   "cell_type": "code",
   "execution_count": null,
   "id": "e68eeb0d",
   "metadata": {},
   "outputs": [],
   "source": []
  },
  {
   "cell_type": "code",
   "execution_count": 74,
   "id": "9e6d7e6b",
   "metadata": {
    "scrolled": true
   },
   "outputs": [
    {
     "data": {
      "text/html": [
       "<div>\n",
       "<style scoped>\n",
       "    .dataframe tbody tr th:only-of-type {\n",
       "        vertical-align: middle;\n",
       "    }\n",
       "\n",
       "    .dataframe tbody tr th {\n",
       "        vertical-align: top;\n",
       "    }\n",
       "\n",
       "    .dataframe thead th {\n",
       "        text-align: right;\n",
       "    }\n",
       "</style>\n",
       "<table border=\"1\" class=\"dataframe\">\n",
       "  <thead>\n",
       "    <tr style=\"text-align: right;\">\n",
       "      <th></th>\n",
       "      <th>sex</th>\n",
       "      <th>smoker</th>\n",
       "    </tr>\n",
       "  </thead>\n",
       "  <tbody>\n",
       "    <tr>\n",
       "      <th>0</th>\n",
       "      <td>female</td>\n",
       "      <td>yes</td>\n",
       "    </tr>\n",
       "    <tr>\n",
       "      <th>5</th>\n",
       "      <td>female</td>\n",
       "      <td>no</td>\n",
       "    </tr>\n",
       "    <tr>\n",
       "      <th>6</th>\n",
       "      <td>female</td>\n",
       "      <td>no</td>\n",
       "    </tr>\n",
       "    <tr>\n",
       "      <th>7</th>\n",
       "      <td>female</td>\n",
       "      <td>no</td>\n",
       "    </tr>\n",
       "    <tr>\n",
       "      <th>9</th>\n",
       "      <td>female</td>\n",
       "      <td>no</td>\n",
       "    </tr>\n",
       "    <tr>\n",
       "      <th>...</th>\n",
       "      <td>...</td>\n",
       "      <td>...</td>\n",
       "    </tr>\n",
       "    <tr>\n",
       "      <th>1324</th>\n",
       "      <td>male</td>\n",
       "      <td>no</td>\n",
       "    </tr>\n",
       "    <tr>\n",
       "      <th>1325</th>\n",
       "      <td>male</td>\n",
       "      <td>no</td>\n",
       "    </tr>\n",
       "    <tr>\n",
       "      <th>1327</th>\n",
       "      <td>male</td>\n",
       "      <td>no</td>\n",
       "    </tr>\n",
       "    <tr>\n",
       "      <th>1329</th>\n",
       "      <td>male</td>\n",
       "      <td>no</td>\n",
       "    </tr>\n",
       "    <tr>\n",
       "      <th>1333</th>\n",
       "      <td>male</td>\n",
       "      <td>no</td>\n",
       "    </tr>\n",
       "  </tbody>\n",
       "</table>\n",
       "<p>1338 rows × 2 columns</p>\n",
       "</div>"
      ],
      "text/plain": [
       "         sex smoker\n",
       "0     female    yes\n",
       "5     female     no\n",
       "6     female     no\n",
       "7     female     no\n",
       "9     female     no\n",
       "...      ...    ...\n",
       "1324    male     no\n",
       "1325    male     no\n",
       "1327    male     no\n",
       "1329    male     no\n",
       "1333    male     no\n",
       "\n",
       "[1338 rows x 2 columns]"
      ]
     },
     "execution_count": 74,
     "metadata": {},
     "output_type": "execute_result"
    }
   ],
   "source": [
    "#Making a df just for visualization by concat the groups\n",
    "plot_df_two = pd.concat([female_smokers, male_smokers])\n",
    "plot_df_two"
   ]
  },
  {
   "cell_type": "code",
   "execution_count": 88,
   "id": "1da4716e",
   "metadata": {},
   "outputs": [
    {
     "data": {
      "text/html": [
       "<div>\n",
       "<style scoped>\n",
       "    .dataframe tbody tr th:only-of-type {\n",
       "        vertical-align: middle;\n",
       "    }\n",
       "\n",
       "    .dataframe tbody tr th {\n",
       "        vertical-align: top;\n",
       "    }\n",
       "\n",
       "    .dataframe thead th {\n",
       "        text-align: right;\n",
       "    }\n",
       "</style>\n",
       "<table border=\"1\" class=\"dataframe\">\n",
       "  <thead>\n",
       "    <tr style=\"text-align: right;\">\n",
       "      <th>smoker</th>\n",
       "      <th>no</th>\n",
       "      <th>yes</th>\n",
       "    </tr>\n",
       "    <tr>\n",
       "      <th>sex</th>\n",
       "      <th></th>\n",
       "      <th></th>\n",
       "    </tr>\n",
       "  </thead>\n",
       "  <tbody>\n",
       "    <tr>\n",
       "      <th>female</th>\n",
       "      <td>547</td>\n",
       "      <td>115</td>\n",
       "    </tr>\n",
       "    <tr>\n",
       "      <th>male</th>\n",
       "      <td>517</td>\n",
       "      <td>159</td>\n",
       "    </tr>\n",
       "  </tbody>\n",
       "</table>\n",
       "</div>"
      ],
      "text/plain": [
       "smoker   no  yes\n",
       "sex             \n",
       "female  547  115\n",
       "male    517  159"
      ]
     },
     "execution_count": 88,
     "metadata": {},
     "output_type": "execute_result"
    }
   ],
   "source": [
    "#getting the contingency table by calculating the contingency table with pd.cross-tab\n",
    "table = pd.crosstab(col_two['sex'], col_two['smoker'])\n",
    "table"
   ]
  },
  {
   "cell_type": "code",
   "execution_count": 91,
   "id": "3b970830",
   "metadata": {},
   "outputs": [],
   "source": [
    "#running the test and saving the output\n",
    "m_f_result = stats.chi2_contingency(table)\n",
    "chi2, p, deg_free, expected_vals = m_f_result "
   ]
  },
  {
   "cell_type": "code",
   "execution_count": 92,
   "id": "b1ff7185",
   "metadata": {},
   "outputs": [
    {
     "name": "stdout",
     "output_type": "stream",
     "text": [
      "0.006548143503580696\n"
     ]
    },
    {
     "data": {
      "text/plain": [
       "True"
      ]
     },
     "execution_count": 92,
     "metadata": {},
     "output_type": "execute_result"
    }
   ],
   "source": [
    "#checking p-value\n",
    "print(p)\n",
    "p<.05"
   ]
  },
  {
   "cell_type": "markdown",
   "id": "b527f9e5",
   "metadata": {},
   "source": [
    "- Our Chi-Squared p-value is less than 0.05, so this is a significant result."
   ]
  },
  {
   "cell_type": "markdown",
   "id": "2120329e",
   "metadata": {},
   "source": [
    "Final Conclusion:\n",
    "\n",
    "- Our test says p value < 0.05. Thus, we reject the null hypothesis that there is no difference in who smokes more between men and women. This also means we support the alternative hypothesis and conclude that there is a relationship between who smokes more between men and women."
   ]
  },
  {
   "cell_type": "code",
   "execution_count": 87,
   "id": "84e0c20f",
   "metadata": {},
   "outputs": [
    {
     "data": {
      "image/png": "[encoded data removed]",
      "text/plain": [
       "<Figure size 576x396 with 1 Axes>"
      ]
     },
     "metadata": {},
     "output_type": "display_data"
    }
   ],
   "source": [
    "## visualize the group of smokers\n",
    "ax = sns.countplot(data=plot_df_two, x='sex',hue='smoker',)\n",
    "ax.set_title(\"Number of Smokers by Sex\");"
   ]
  },
  {
   "cell_type": "markdown",
   "id": "3f86e83e",
   "metadata": {},
   "source": [
    "# - Q3. Do different regions have different charges, on average?"
   ]
  },
  {
   "cell_type": "markdown",
   "id": "9004845f",
   "metadata": {},
   "source": [
    "Stating the Hypothesis & Null Hypothesis:\n",
    "\n",
    "- (Null Hypothesis): All regions and charges on average are the same.\n",
    "\n",
    "- (Alternative Hypothesis): There is a significant difference on average between regions and charges.\n",
    "\n",
    "- Alpha: We will be using an alpha=.05\n",
    "\n",
    "Selecting the correct test according to the data type and number of samples"
   ]
  },
  {
   "cell_type": "code",
   "execution_count": 95,
   "id": "d39a7fb9",
   "metadata": {},
   "outputs": [
    {
     "data": {
      "text/html": [
       "<div>\n",
       "<style scoped>\n",
       "    .dataframe tbody tr th:only-of-type {\n",
       "        vertical-align: middle;\n",
       "    }\n",
       "\n",
       "    .dataframe tbody tr th {\n",
       "        vertical-align: top;\n",
       "    }\n",
       "\n",
       "    .dataframe thead th {\n",
       "        text-align: right;\n",
       "    }\n",
       "</style>\n",
       "<table border=\"1\" class=\"dataframe\">\n",
       "  <thead>\n",
       "    <tr style=\"text-align: right;\">\n",
       "      <th></th>\n",
       "      <th>region</th>\n",
       "      <th>charges</th>\n",
       "    </tr>\n",
       "  </thead>\n",
       "  <tbody>\n",
       "    <tr>\n",
       "      <th>0</th>\n",
       "      <td>southwest</td>\n",
       "      <td>16884.9240</td>\n",
       "    </tr>\n",
       "    <tr>\n",
       "      <th>1</th>\n",
       "      <td>southeast</td>\n",
       "      <td>1725.5523</td>\n",
       "    </tr>\n",
       "    <tr>\n",
       "      <th>2</th>\n",
       "      <td>southeast</td>\n",
       "      <td>4449.4620</td>\n",
       "    </tr>\n",
       "  </tbody>\n",
       "</table>\n",
       "</div>"
      ],
      "text/plain": [
       "      region     charges\n",
       "0  southwest  16884.9240\n",
       "1  southeast   1725.5523\n",
       "2  southeast   4449.4620"
      ]
     },
     "execution_count": 95,
     "metadata": {},
     "output_type": "execute_result"
    }
   ],
   "source": [
    "col_three = df[['region', 'charges']]\n",
    "col_three.head(3)"
   ]
  },
  {
   "cell_type": "code",
   "execution_count": 96,
   "id": "8fe4e649",
   "metadata": {},
   "outputs": [
    {
     "data": {
      "text/plain": [
       "region     charges    \n",
       "northwest  1639.56310     2\n",
       "northeast  1694.79640     1\n",
       "southeast  14001.13380    1\n",
       "           16085.12750    1\n",
       "           15161.53440    1\n",
       "                         ..\n",
       "northwest  6686.43130     1\n",
       "           6664.68595     1\n",
       "           6571.02435     1\n",
       "           6548.19505     1\n",
       "southwest  52590.82939    1\n",
       "Length: 1337, dtype: int64"
      ]
     },
     "execution_count": 96,
     "metadata": {},
     "output_type": "execute_result"
    }
   ],
   "source": [
    "col_three.value_counts()"
   ]
  },
  {
   "cell_type": "code",
   "execution_count": 97,
   "id": "6e26d35d",
   "metadata": {},
   "outputs": [
    {
     "data": {
      "text/plain": [
       "region\n",
       "northeast    13406.384516\n",
       "northwest    12417.575374\n",
       "southeast    14735.411438\n",
       "southwest    12346.937377\n",
       "Name: charges, dtype: float64"
      ]
     },
     "execution_count": 97,
     "metadata": {},
     "output_type": "execute_result"
    }
   ],
   "source": [
    "col_three.groupby('region')['charges'].mean()"
   ]
  },
  {
   "cell_type": "code",
   "execution_count": 109,
   "id": "3f08a150",
   "metadata": {},
   "outputs": [],
   "source": [
    "#making region groups\n",
    "NE = col_three[col_three['region'] == 'northeast']\n",
    "NW = col_three[col_three['region'] == 'northwest']\n",
    "SE = col_three[col_three['region'] == 'southeast']\n",
    "SW = col_three[col_three['region'] == 'southwest']"
   ]
  },
  {
   "cell_type": "code",
   "execution_count": 110,
   "id": "442bd414",
   "metadata": {},
   "outputs": [],
   "source": [
    "#making region groups with charges as numeric\n",
    "NE_charges = NE['charges']\n",
    "NW_charges = NW['charges']\n",
    "SE_charges = SE['charges']\n",
    "SW_charges = SW['charges']"
   ]
  },
  {
   "cell_type": "code",
   "execution_count": 112,
   "id": "e41dc237",
   "metadata": {},
   "outputs": [
    {
     "data": {
      "text/plain": [
       "4"
      ]
     },
     "execution_count": 112,
     "metadata": {},
     "output_type": "execute_result"
    }
   ],
   "source": [
    "#checking region groups for outliers NE\n",
    "zscores_NE = stats.zscore(NE_charges)\n",
    "outliers_NE = abs(zscores_NE)>3\n",
    "np.sum(outliers_NE)"
   ]
  },
  {
   "cell_type": "code",
   "execution_count": 113,
   "id": "42d96afc",
   "metadata": {},
   "outputs": [],
   "source": [
    "#removing NE outliers\n",
    "NE_charges = NE_charges[~outliers_NE]"
   ]
  },
  {
   "cell_type": "code",
   "execution_count": 114,
   "id": "f48bfc02",
   "metadata": {},
   "outputs": [
    {
     "data": {
      "text/plain": [
       "7"
      ]
     },
     "execution_count": 114,
     "metadata": {},
     "output_type": "execute_result"
    }
   ],
   "source": [
    "#checking region groups for outliers NW\n",
    "zscores_NW = stats.zscore(NW_charges)\n",
    "outliers_NW = abs(zscores_NW)>3\n",
    "np.sum(outliers_NW)"
   ]
  },
  {
   "cell_type": "code",
   "execution_count": 115,
   "id": "79277fe6",
   "metadata": {},
   "outputs": [],
   "source": [
    "#removing NW outliers\n",
    "NW_charges = NW_charges[~outliers_NW]"
   ]
  },
  {
   "cell_type": "code",
   "execution_count": 116,
   "id": "55016f42",
   "metadata": {},
   "outputs": [
    {
     "data": {
      "text/plain": [
       "2"
      ]
     },
     "execution_count": 116,
     "metadata": {},
     "output_type": "execute_result"
    }
   ],
   "source": [
    "#checking region groups for outliers SE\n",
    "zscores_SE = stats.zscore(SE_charges)\n",
    "outliers_SE = abs(zscores_SE)>3\n",
    "np.sum(outliers_SE)"
   ]
  },
  {
   "cell_type": "code",
   "execution_count": 117,
   "id": "91009977",
   "metadata": {},
   "outputs": [],
   "source": [
    "#removing SE outliers\n",
    "SE_charges = SE_charges[~outliers_SE]"
   ]
  },
  {
   "cell_type": "code",
   "execution_count": 118,
   "id": "c13e7c6d",
   "metadata": {},
   "outputs": [
    {
     "data": {
      "text/plain": [
       "8"
      ]
     },
     "execution_count": 118,
     "metadata": {},
     "output_type": "execute_result"
    }
   ],
   "source": [
    "#checking region groups for outliers SW\n",
    "zscores_SW = stats.zscore(SW_charges)\n",
    "outliers_SW = abs(zscores_SW)>3\n",
    "np.sum(outliers_SW)"
   ]
  },
  {
   "cell_type": "code",
   "execution_count": 119,
   "id": "6b79d005",
   "metadata": {},
   "outputs": [],
   "source": [
    "#removing SE outliers\n",
    "SW_charges = SW_charges[~outliers_SW]"
   ]
  },
  {
   "cell_type": "code",
   "execution_count": 120,
   "id": "e63a8965",
   "metadata": {},
   "outputs": [
    {
     "data": {
      "text/plain": [
       "dict_keys(['southwest', 'southeast', 'northwest', 'northeast'])"
      ]
     },
     "execution_count": 120,
     "metadata": {},
     "output_type": "execute_result"
    }
   ],
   "source": [
    "#creating groups in dictionary for regions\n",
    "groups = {}\n",
    "\n",
    "for i in col_three['region'].unique():\n",
    "    data = df.loc[col_three['region'] == i, 'charges'].copy()\n",
    "    groups[i] = data\n",
    "groups.keys()"
   ]
  },
  {
   "cell_type": "code",
   "execution_count": 121,
   "id": "25a30d05",
   "metadata": {},
   "outputs": [
    {
     "data": {
      "text/html": [
       "<div>\n",
       "<style scoped>\n",
       "    .dataframe tbody tr th:only-of-type {\n",
       "        vertical-align: middle;\n",
       "    }\n",
       "\n",
       "    .dataframe tbody tr th {\n",
       "        vertical-align: top;\n",
       "    }\n",
       "\n",
       "    .dataframe thead th {\n",
       "        text-align: right;\n",
       "    }\n",
       "</style>\n",
       "<table border=\"1\" class=\"dataframe\">\n",
       "  <thead>\n",
       "    <tr style=\"text-align: right;\">\n",
       "      <th></th>\n",
       "      <th>n</th>\n",
       "      <th>p</th>\n",
       "      <th>test stat</th>\n",
       "    </tr>\n",
       "  </thead>\n",
       "  <tbody>\n",
       "    <tr>\n",
       "      <th>southwest</th>\n",
       "      <td>325.0</td>\n",
       "      <td>6.125298e-23</td>\n",
       "      <td>102.294059</td>\n",
       "    </tr>\n",
       "    <tr>\n",
       "      <th>southeast</th>\n",
       "      <td>364.0</td>\n",
       "      <td>4.953297e-15</td>\n",
       "      <td>65.877446</td>\n",
       "    </tr>\n",
       "    <tr>\n",
       "      <th>northwest</th>\n",
       "      <td>325.0</td>\n",
       "      <td>5.184209e-24</td>\n",
       "      <td>107.232850</td>\n",
       "    </tr>\n",
       "    <tr>\n",
       "      <th>northeast</th>\n",
       "      <td>324.0</td>\n",
       "      <td>1.455431e-19</td>\n",
       "      <td>86.747629</td>\n",
       "    </tr>\n",
       "  </tbody>\n",
       "</table>\n",
       "</div>"
      ],
      "text/plain": [
       "               n             p   test stat\n",
       "southwest  325.0  6.125298e-23  102.294059\n",
       "southeast  364.0  4.953297e-15   65.877446\n",
       "northwest  325.0  5.184209e-24  107.232850\n",
       "northeast  324.0  1.455431e-19   86.747629"
      ]
     },
     "execution_count": 121,
     "metadata": {},
     "output_type": "execute_result"
    }
   ],
   "source": [
    "#running assumption normality on each group and making sure there are enough n\n",
    "norm_results = {}\n",
    "for i, data in groups.items():\n",
    "    stat, p = stats.normaltest(data)\n",
    "    norm_results[i] = {'n': len(data), 'p':p, 'test stat':stat,}\n",
    "norm_results_df = pd.DataFrame(norm_results).T\n",
    "norm_results_df"
   ]
  },
  {
   "cell_type": "code",
   "execution_count": 122,
   "id": "df21360e",
   "metadata": {},
   "outputs": [
    {
     "data": {
      "text/html": [
       "<div>\n",
       "<style scoped>\n",
       "    .dataframe tbody tr th:only-of-type {\n",
       "        vertical-align: middle;\n",
       "    }\n",
       "\n",
       "    .dataframe tbody tr th {\n",
       "        vertical-align: top;\n",
       "    }\n",
       "\n",
       "    .dataframe thead th {\n",
       "        text-align: right;\n",
       "    }\n",
       "</style>\n",
       "<table border=\"1\" class=\"dataframe\">\n",
       "  <thead>\n",
       "    <tr style=\"text-align: right;\">\n",
       "      <th></th>\n",
       "      <th>n</th>\n",
       "      <th>p</th>\n",
       "      <th>test stat</th>\n",
       "      <th>sig</th>\n",
       "    </tr>\n",
       "  </thead>\n",
       "  <tbody>\n",
       "    <tr>\n",
       "      <th>southwest</th>\n",
       "      <td>325.0</td>\n",
       "      <td>6.125298e-23</td>\n",
       "      <td>102.294059</td>\n",
       "      <td>True</td>\n",
       "    </tr>\n",
       "    <tr>\n",
       "      <th>southeast</th>\n",
       "      <td>364.0</td>\n",
       "      <td>4.953297e-15</td>\n",
       "      <td>65.877446</td>\n",
       "      <td>True</td>\n",
       "    </tr>\n",
       "    <tr>\n",
       "      <th>northwest</th>\n",
       "      <td>325.0</td>\n",
       "      <td>5.184209e-24</td>\n",
       "      <td>107.232850</td>\n",
       "      <td>True</td>\n",
       "    </tr>\n",
       "    <tr>\n",
       "      <th>northeast</th>\n",
       "      <td>324.0</td>\n",
       "      <td>1.455431e-19</td>\n",
       "      <td>86.747629</td>\n",
       "      <td>True</td>\n",
       "    </tr>\n",
       "  </tbody>\n",
       "</table>\n",
       "</div>"
      ],
      "text/plain": [
       "               n             p   test stat   sig\n",
       "southwest  325.0  6.125298e-23  102.294059  True\n",
       "southeast  364.0  4.953297e-15   65.877446  True\n",
       "northwest  325.0  5.184209e-24  107.232850  True\n",
       "northeast  324.0  1.455431e-19   86.747629  True"
      ]
     },
     "execution_count": 122,
     "metadata": {},
     "output_type": "execute_result"
    }
   ],
   "source": [
    "#valadiating the above data by checking sig with pandas \n",
    "norm_results_df['sig'] = norm_results_df['p'] < .05 \n",
    "norm_results_df"
   ]
  },
  {
   "cell_type": "markdown",
   "id": "c01c35e3",
   "metadata": {},
   "source": [
    "- We confirm that each group is not a normal distribution."
   ]
  },
  {
   "cell_type": "code",
   "execution_count": 125,
   "id": "da4e276d",
   "metadata": {},
   "outputs": [
    {
     "name": "stdout",
     "output_type": "stream",
     "text": [
      "LeveneResult(statistic=5.559966758410606, pvalue=0.0008610590250786703)\n"
     ]
    },
    {
     "data": {
      "text/plain": [
       "True"
      ]
     },
     "execution_count": 125,
     "metadata": {},
     "output_type": "execute_result"
    }
   ],
   "source": [
    "# the assumption of equal variance.\n",
    "lev = stats.levene(*groups.values())\n",
    "print(lev)\n",
    "lev.pvalue < .05"
   ]
  },
  {
   "cell_type": "markdown",
   "id": "48a15a90",
   "metadata": {},
   "source": [
    "- This low p-value suggests that the charges do not have equal\n",
    "variances."
   ]
  },
  {
   "cell_type": "code",
   "execution_count": 127,
   "id": "5278bd1d",
   "metadata": {},
   "outputs": [
    {
     "name": "stdout",
     "output_type": "stream",
     "text": [
      "F_onewayResult(statistic=2.96962669358912, pvalue=0.0308933560705201)\n"
     ]
    },
    {
     "data": {
      "text/plain": [
       "True"
      ]
     },
     "execution_count": 127,
     "metadata": {},
     "output_type": "execute_result"
    }
   ],
   "source": [
    "## perform the One-Way ANOVA Test on hypothesis \n",
    "final_result_two= stats.f_oneway( *groups.values())\n",
    "print(final_result_two)\n",
    "final_result_two.pvalue<.05"
   ]
  },
  {
   "cell_type": "markdown",
   "id": "5c48e312",
   "metadata": {},
   "source": [
    "- This p-value represents the differences between all groups and it is suggesting to reject the null hypothesis."
   ]
  },
  {
   "cell_type": "code",
   "execution_count": 129,
   "id": "b58abbd0",
   "metadata": {},
   "outputs": [],
   "source": [
    "#labeling values and labels\n",
    "values = col_three['charges']\n",
    "labels = col_three['region']"
   ]
  },
  {
   "cell_type": "code",
   "execution_count": 130,
   "id": "0f7c3fbb",
   "metadata": {},
   "outputs": [
    {
     "data": {
      "text/html": [
       "<table class=\"simpletable\">\n",
       "<caption>Multiple Comparison of Means - Tukey HSD, FWER=0.05</caption>\n",
       "<tr>\n",
       "   <th>group1</th>    <th>group2</th>    <th>meandiff</th>   <th>p-adj</th>    <th>lower</th>     <th>upper</th>   <th>reject</th>\n",
       "</tr>\n",
       "<tr>\n",
       "  <td>northeast</td> <td>northwest</td>  <td>-988.8091</td> <td>0.7245</td> <td>-3428.9343</td> <td>1451.3161</td>  <td>False</td>\n",
       "</tr>\n",
       "<tr>\n",
       "  <td>northeast</td> <td>southeast</td>  <td>1329.0269</td> <td>0.4745</td> <td>-1044.9417</td> <td>3702.9955</td>  <td>False</td>\n",
       "</tr>\n",
       "<tr>\n",
       "  <td>northeast</td> <td>southwest</td> <td>-1059.4471</td> <td>0.6792</td> <td>-3499.5723</td> <td>1380.6781</td>  <td>False</td>\n",
       "</tr>\n",
       "<tr>\n",
       "  <td>northwest</td> <td>southeast</td>  <td>2317.8361</td> <td>0.0583</td>  <td>-54.1994</td>  <td>4689.8716</td>  <td>False</td>\n",
       "</tr>\n",
       "<tr>\n",
       "  <td>northwest</td> <td>southwest</td>   <td>-70.638</td>  <td>0.9999</td> <td>-2508.8826</td> <td>2367.6066</td>  <td>False</td>\n",
       "</tr>\n",
       "<tr>\n",
       "  <td>southeast</td> <td>southwest</td> <td>-2388.4741</td> <td>0.0477</td> <td>-4760.5096</td> <td>-16.4386</td>   <td>True</td> \n",
       "</tr>\n",
       "</table>"
      ],
      "text/plain": [
       "<class 'statsmodels.iolib.table.SimpleTable'>"
      ]
     },
     "execution_count": 130,
     "metadata": {},
     "output_type": "execute_result"
    }
   ],
   "source": [
    "## performing tukey's multiple comparison test and display the summary\n",
    "tukeys_results = pairwise_tukeyhsd(values,labels)\n",
    "tukeys_results.summary()"
   ]
  },
  {
   "cell_type": "markdown",
   "id": "8058c29b",
   "metadata": {},
   "source": [
    "Final Conclusion:\n",
    "\n",
    "Our overall p-value test shows that we can reject the null hypothesis. However, in more detail our tukeys test showed that there is a significant difference in the results of charges in 1 group compared to another.  That would be region southeast over southwest. Thus, there is a significant difference on average between regions and charges specifically between southeast and southwest. "
   ]
  },
  {
   "cell_type": "code",
   "execution_count": 98,
   "id": "71369481",
   "metadata": {},
   "outputs": [
    {
     "data": {
      "image/png": "[encoded data removed]",
      "text/plain": [
       "<Figure size 576x396 with 1 Axes>"
      ]
     },
     "metadata": {},
     "output_type": "display_data"
    }
   ],
   "source": [
    "sns.barplot(data=col_three, x='region',y='charges');"
   ]
  },
  {
   "cell_type": "code",
   "execution_count": null,
   "id": "34d5c90e",
   "metadata": {},
   "outputs": [],
   "source": []
  }
 ],
 "metadata": {
  "kernelspec": {
   "display_name": "Python (dojo-env)",
   "language": "python",
   "name": "dojo-env"
  },
  "language_info": {
   "codemirror_mode": {
    "name": "ipython",
    "version": 3
   },
   "file_extension": ".py",
   "mimetype": "text/x-python",
   "name": "python",
   "nbconvert_exporter": "python",
   "pygments_lexer": "ipython3",
   "version": "3.8.13"
  },
  "toc": {
   "base_numbering": 1,
   "nav_menu": {},
   "number_sections": true,
   "sideBar": true,
   "skip_h1_title": false,
   "title_cell": "Table of Contents",
   "title_sidebar": "Contents",
   "toc_cell": false,
   "toc_position": {},
   "toc_section_display": true,
   "toc_window_display": false
  }
 },
 "nbformat": 4,
 "nbformat_minor": 5
}
